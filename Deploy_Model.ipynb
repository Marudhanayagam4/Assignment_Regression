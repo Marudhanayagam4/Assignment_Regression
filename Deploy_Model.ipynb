{
 "cells": [
  {
   "cell_type": "code",
   "execution_count": 1,
   "id": "c2846c68-6a52-47ca-a527-d30468dd3bcf",
   "metadata": {},
   "outputs": [
    {
     "name": "stdin",
     "output_type": "stream",
     "text": [
      "Age: 26\n",
      "BMI: 25\n",
      "Children: 2\n",
      "Sex_Male 0 or 1: 0\n",
      "Smoker_Yes 0 or 1: 1\n"
     ]
    },
    {
     "name": "stdout",
     "output_type": "stream",
     "text": [
      "Future Prediction for Insurance Charge=[17920.256881]\n"
     ]
    },
    {
     "name": "stderr",
     "output_type": "stream",
     "text": [
      "C:\\Anaconda3\\Lib\\site-packages\\sklearn\\base.py:493: UserWarning: X does not have valid feature names, but RandomForestRegressor was fitted with feature names\n",
      "  warnings.warn(\n"
     ]
    }
   ],
   "source": [
    "# Deploy phase\n",
    "import pickle # to convert data object into byte stream to save into file, tranport data, access data across sessions\n",
    "filename=\"final_Random_Forest_model.sav\" # assigning saved trained model to variale called 'filename'\n",
    "\n",
    "model = pickle.load(open(filename,\"rb\")) # load the saved model\n",
    "\n",
    "# get inputs from user\n",
    "age=int(input(\"Age:\"))\n",
    "bmi=float(input(\"BMI:\"))\n",
    "child=int(input(\"Children:\"))\n",
    "sex=int(input(\"Sex_Male 0 or 1:\"))\n",
    "smoke=int(input(\"Smoker_Yes 0 or 1:\"))\n",
    "\n",
    "# prediction\n",
    "result=model.predict([[age,bmi,child,sex,smoke]])\n",
    "print(\"Future Prediction for Insurance Charge={}\".format(result))"
   ]
  },
  {
   "cell_type": "code",
   "execution_count": null,
   "id": "697b13e1-ca1b-47eb-92cc-9dd27736f792",
   "metadata": {},
   "outputs": [],
   "source": []
  }
 ],
 "metadata": {
  "kernelspec": {
   "display_name": "Python 3 (ipykernel)",
   "language": "python",
   "name": "python3"
  },
  "language_info": {
   "codemirror_mode": {
    "name": "ipython",
    "version": 3
   },
   "file_extension": ".py",
   "mimetype": "text/x-python",
   "name": "python",
   "nbconvert_exporter": "python",
   "pygments_lexer": "ipython3",
   "version": "3.12.4"
  }
 },
 "nbformat": 4,
 "nbformat_minor": 5
}
